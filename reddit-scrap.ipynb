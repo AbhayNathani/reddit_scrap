{
 "cells": [
  {
   "cell_type": "code",
   "execution_count": 1,
   "metadata": {},
   "outputs": [],
   "source": [
    "# Imports\n",
    "import praw\n",
    "import pandas as pd"
   ]
  },
  {
   "cell_type": "code",
   "execution_count": 2,
   "metadata": {},
   "outputs": [],
   "source": [
    "# Reddit API Setup\n",
    "my_client_id = '3DQxs1QLPwwlmbeIUGDxDA'\n",
    "my_client_secret = 'Iq4aAPmAS1jmms_UWKCpFwkqgpKKpA'\n",
    "my_user_agent = 'scrapRDT'\n",
    "reddit = praw.Reddit(client_id= my_client_id, client_secret= my_client_secret, user_agent=my_user_agent)\n"
   ]
  },
  {
   "cell_type": "code",
   "execution_count": 3,
   "metadata": {},
   "outputs": [
    {
     "data": {
      "text/html": [
       "<div>\n",
       "<style scoped>\n",
       "    .dataframe tbody tr th:only-of-type {\n",
       "        vertical-align: middle;\n",
       "    }\n",
       "\n",
       "    .dataframe tbody tr th {\n",
       "        vertical-align: top;\n",
       "    }\n",
       "\n",
       "    .dataframe thead th {\n",
       "        text-align: right;\n",
       "    }\n",
       "</style>\n",
       "<table border=\"1\" class=\"dataframe\">\n",
       "  <thead>\n",
       "    <tr style=\"text-align: right;\">\n",
       "      <th></th>\n",
       "      <th>title</th>\n",
       "      <th>text</th>\n",
       "    </tr>\n",
       "  </thead>\n",
       "  <tbody>\n",
       "    <tr>\n",
       "      <th>0</th>\n",
       "      <td>psycho ex</td>\n",
       "      <td>Idk if I can take it anymore.\\nMy ex girlfrien...</td>\n",
       "    </tr>\n",
       "    <tr>\n",
       "      <th>1</th>\n",
       "      <td>feeling like an alien, cant fit in no matter h...</td>\n",
       "      <td>M18, I had depression for most of my life, i c...</td>\n",
       "    </tr>\n",
       "    <tr>\n",
       "      <th>2</th>\n",
       "      <td>Today</td>\n",
       "      <td>Today is the first time in a long time I don’t...</td>\n",
       "    </tr>\n",
       "    <tr>\n",
       "      <th>3</th>\n",
       "      <td>family problems</td>\n",
       "      <td>i feel so unwelcomed in my own home. home does...</td>\n",
       "    </tr>\n",
       "    <tr>\n",
       "      <th>4</th>\n",
       "      <td>Courage</td>\n",
       "      <td>I'm at the end, I've had so many reasons and t...</td>\n",
       "    </tr>\n",
       "    <tr>\n",
       "      <th>5</th>\n",
       "      <td>I feel worthless</td>\n",
       "      <td>This year has been one of the most difficult o...</td>\n",
       "    </tr>\n",
       "    <tr>\n",
       "      <th>6</th>\n",
       "      <td>Life isn’t what I thought it would be.</td>\n",
       "      <td>25M.  I just can’t believe that this is it.  G...</td>\n",
       "    </tr>\n",
       "    <tr>\n",
       "      <th>7</th>\n",
       "      <td>A total loser</td>\n",
       "      <td>I am such an idiot and a loser. I like to talk...</td>\n",
       "    </tr>\n",
       "    <tr>\n",
       "      <th>8</th>\n",
       "      <td>I hate all 12 years of my life.</td>\n",
       "      <td>This I probably the only time I’m gonna speak ...</td>\n",
       "    </tr>\n",
       "    <tr>\n",
       "      <th>9</th>\n",
       "      <td>Unhappy</td>\n",
       "      <td>Hi, i have 21(M) since 14 15 i am unhappy, idk...</td>\n",
       "    </tr>\n",
       "  </tbody>\n",
       "</table>\n",
       "</div>"
      ],
      "text/plain": [
       "                                               title  \\\n",
       "0                                          psycho ex   \n",
       "1  feeling like an alien, cant fit in no matter h...   \n",
       "2                                              Today   \n",
       "3                                    family problems   \n",
       "4                                            Courage   \n",
       "5                                   I feel worthless   \n",
       "6             Life isn’t what I thought it would be.   \n",
       "7                                      A total loser   \n",
       "8                    I hate all 12 years of my life.   \n",
       "9                                            Unhappy   \n",
       "\n",
       "                                                text  \n",
       "0  Idk if I can take it anymore.\\nMy ex girlfrien...  \n",
       "1  M18, I had depression for most of my life, i c...  \n",
       "2  Today is the first time in a long time I don’t...  \n",
       "3  i feel so unwelcomed in my own home. home does...  \n",
       "4  I'm at the end, I've had so many reasons and t...  \n",
       "5  This year has been one of the most difficult o...  \n",
       "6  25M.  I just can’t believe that this is it.  G...  \n",
       "7  I am such an idiot and a loser. I like to talk...  \n",
       "8  This I probably the only time I’m gonna speak ...  \n",
       "9  Hi, i have 21(M) since 14 15 i am unhappy, idk...  "
      ]
     },
     "execution_count": 3,
     "metadata": {},
     "output_type": "execute_result"
    }
   ],
   "source": [
    "posts = []\n",
    "ml_subreddit = reddit.subreddit('depressed').new(limit=1000)\n",
    "\n",
    "for post in ml_subreddit:\n",
    "    posts.append([post.title,post.selftext])\n",
    "posts = pd.DataFrame(posts,columns=['title','text'])\n",
    "posts\n"
   ]
  },
  {
   "cell_type": "code",
   "execution_count": 4,
   "metadata": {},
   "outputs": [],
   "source": [
    "# Save The Data into CSV FILE \n",
    "posts.to_csv(\"depressed.csv\")"
   ]
  }
 ],
 "metadata": {
  "kernelspec": {
   "display_name": "Python 3 (ipykernel)",
   "language": "python",
   "name": "python3"
  },
  "language_info": {
   "codemirror_mode": {
    "name": "ipython",
    "version": 3
   },
   "file_extension": ".py",
   "mimetype": "text/x-python",
   "name": "python",
   "nbconvert_exporter": "python",
   "pygments_lexer": "ipython3",
   "version": "3.9.7"
  },
  "vscode": {
   "interpreter": {
    "hash": "e7370f93d1d0cde622a1f8e1c04877d8463912d04d973331ad4851f04de6915a"
   }
  }
 },
 "nbformat": 4,
 "nbformat_minor": 2
}
